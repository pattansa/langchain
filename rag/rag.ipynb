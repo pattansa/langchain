{
 "cells": [
  {
   "cell_type": "code",
   "execution_count": 14,
   "metadata": {},
   "outputs": [
    {
     "data": {
      "text/plain": [
       "[Document(metadata={'source': 'speech.txt'}, page_content='Your Majesties, Your Royal Highnesses, Min Vackra Fru, Ladies and Gentlemen.\\nI thank the Swedish Academy for finding my work worthy of this highest honor.\\nIn my heart there may be doubt that I deserve the Nobel award over other men of letters whom I hold in respect and reverence – but there is no question of my pleasure and pride in having it for myself.\\nIt is customary for the recipient of this award to offer personal or scholarly comment on the nature and the direction of literature. At this particular time, however, I think it would be well to consider the high duties and the responsibilities of the makers of literature.\\nSuch is the prestige of the Nobel award and of this place where I stand that I am impelled, not to squeak like a grateful and apologetic mouse, but to roar like a lion out of pride in my profession and in the great and good men who have practiced it through the ages.\\nLiterature was not promulgated by a pale and emasculated critical priesthood singing their litanies in empty churches – nor is it a game for the cloistered elect, the tinhorn mendicants of low calorie despair.\\nLiterature is as old as speech. It grew out of human need for it, and it has not changed except to become more needed.\\nThe skalds, the bards, the writers are not separate and exclusive. From the beginning, their functions, their duties, their responsibilities have been decreed by our species.\\nHumanity has been passing through a gray and desolate time of confusion. My great predecessor, William Faulkner, speaking here, referred to it as a tragedy of universal fear so long sustained that there were no longer problems of the spirit, so that only the human heart in conflict with itself seemed worth writing about.\\nFaulkner, more than most men, was aware of human strength as well as of human weakness. He knew that the understanding and the resolution of fear are a large part of the writer’s reason for being.\\nThis is not new. The ancient commission of the writer has not changed. He is charged with exposing our many grievous faults and failures, with dredging up to the light our dark and dangerous dreams for the purpose of improvement.\\nFurthermore, the writer is delegated to declare and to celebrate man’s proven capacity for greatness of heart and spirit – for gallantry in defeat – for courage, compassion and love.\\nIn the endless war against weakness and despair, these are the bright rally-flags of hope and of emulation.\\nI hold that a writer who does not passionately believe in the perfectibility of man, has no dedication nor any membership in literature.\\nThe present universal fear has been the result of a forward surge in our knowledge and manipulation of certain dangerous factors in the physical world.\\nIt is true that other phases of understanding have not yet caught up with this great step, but there is no reason to presume that they cannot or will not draw abreast. Indeed it is a part of the writer’s responsibility to make sure that they do.\\nWith humanity’s long proud history of standing firm against natural enemies, sometimes in the face of almost certain defeat and extinction, we would be cowardly and stupid to leave the field on the eve of our greatest potential victory.\\nUnderstandably, I have been reading the life of Alfred Nobel – a solitary man, the books say, a thoughtful man. He perfected the release of explosive forces, capable of creative good or of destructive evil, but lacking choice, ungoverned by conscience or judgment.\\nNobel saw some of the cruel and bloody misuses of his inventions. He may even have foreseen the end result of his probing – access to ultimate violence – to final destruction. Some say that he became cynical, but I do not believe this. I think he strove to invent a control, a safety valve. I think he found it finally only in the human mind and the human spirit. To me, his thinking is clearly indicated in the categories of these awards.\\nThey are offered for increased and continuing knowledge of man and of his world – for understanding and communication, which are the functions of literature. And they are offered for demonstrations of the capacity for peace – the culmination of all the others.\\nLess than fifty years after his death, the door of nature was unlocked and we were offered the dreadful burden of choice.\\nWe have usurped many of the powers we once ascribed to God.\\nFearful and unprepared, we have assumed lordship over the life or death of the whole world – of all living things.\\nThe danger and the glory and the choice rest finally in man. The test of his perfectibility is at hand.\\nHaving taken Godlike power, we must seek in ourselves for the responsibility and the wisdom we once prayed some deity might have.\\nMan himself has become our greatest hazard and our only hope.\\nSo that today, St. John the apostle may well be paraphrased …\\nIn the end is the Word, and the Word is Man – and the Word is with Men.')]"
      ]
     },
     "execution_count": 14,
     "metadata": {},
     "output_type": "execute_result"
    }
   ],
   "source": [
    "from langchain_community.document_loaders import TextLoader\n",
    "loader=TextLoader(\"speech.txt\")\n",
    "text_documents=loader.load()\n",
    "text_documents"
   ]
  },
  {
   "cell_type": "code",
   "execution_count": 33,
   "metadata": {},
   "outputs": [
    {
     "data": {
      "text/plain": [
       "[Document(metadata={'source': 'speech.txt'}, page_content='Your Majesties, Your Royal Highnesses, Min Vackra Fru, Ladies and Gentlemen.'),\n",
       " Document(metadata={'source': 'speech.txt'}, page_content='I thank the Swedish Academy for finding my work worthy of this highest honor.'),\n",
       " Document(metadata={'source': 'speech.txt'}, page_content='In my heart there may be doubt that I deserve the Nobel award over other men of letters whom I hold'),\n",
       " Document(metadata={'source': 'speech.txt'}, page_content='letters whom I hold in respect and reverence – but there is no question of my pleasure and pride in'),\n",
       " Document(metadata={'source': 'speech.txt'}, page_content='and pride in having it for myself.')]"
      ]
     },
     "execution_count": 33,
     "metadata": {},
     "output_type": "execute_result"
    }
   ],
   "source": [
    "from langchain.text_splitter import RecursiveCharacterTextSplitter\n",
    "text_splitter=RecursiveCharacterTextSplitter(chunk_size=100,chunk_overlap=20)\n",
    "documents=text_splitter.split_documents(text_documents)\n",
    "documents[:5]"
   ]
  },
  {
   "cell_type": "code",
   "execution_count": 34,
   "metadata": {},
   "outputs": [],
   "source": [
    "from langchain_community.embeddings import OllamaEmbeddings\n",
    "from langchain_community.vectorstores import FAISS\n",
    "\n",
    "\n",
    "embeddings = OllamaEmbeddings(model=\"nomic-embed-text\")\n",
    "db = FAISS.from_documents(documents, embeddings)"
   ]
  },
  {
   "cell_type": "code",
   "execution_count": 37,
   "metadata": {},
   "outputs": [
    {
     "name": "stdout",
     "output_type": "stream",
     "text": [
      "They are offered for increased and continuing knowledge of man and of his world – for understanding\n"
     ]
    }
   ],
   "source": [
    "query = \"continuing knowledge\"\n",
    "retireved_results=db.similarity_search(query)\n",
    "print(retireved_results[0].page_content)"
   ]
  },
  {
   "cell_type": "code",
   "execution_count": 13,
   "metadata": {},
   "outputs": [
    {
     "ename": "ValidationError",
     "evalue": "1 validation error for Document\npage_content\n  Input should be a valid string [type=string_type, input_value=Document(metadata={'sourc...d it through the ages.'), input_type=Document]\n    For further information visit https://errors.pydantic.dev/2.11/v/string_type",
     "output_type": "error",
     "traceback": [
      "\u001b[31m---------------------------------------------------------------------------\u001b[39m",
      "\u001b[31mValidationError\u001b[39m                           Traceback (most recent call last)",
      "\u001b[36mCell\u001b[39m\u001b[36m \u001b[39m\u001b[32mIn[13]\u001b[39m\u001b[32m, line 2\u001b[39m\n\u001b[32m      1\u001b[39m \u001b[38;5;28;01mfrom\u001b[39;00m\u001b[38;5;250m \u001b[39m\u001b[34;01mlangchain_core\u001b[39;00m\u001b[34;01m.\u001b[39;00m\u001b[34;01mvectorstores\u001b[39;00m\u001b[38;5;250m \u001b[39m\u001b[38;5;28;01mimport\u001b[39;00m InMemoryVectorStore\n\u001b[32m----> \u001b[39m\u001b[32m2\u001b[39m vectorstore = \u001b[43mInMemoryVectorStore\u001b[49m\u001b[43m.\u001b[49m\u001b[43mfrom_texts\u001b[49m\u001b[43m(\u001b[49m\n\u001b[32m      3\u001b[39m \u001b[43m    \u001b[49m\u001b[43mdocuments\u001b[49m\u001b[43m,\u001b[49m\n\u001b[32m      4\u001b[39m \u001b[43m    \u001b[49m\u001b[43membedding\u001b[49m\u001b[43m=\u001b[49m\u001b[43membeddings\u001b[49m\u001b[43m,\u001b[49m\n\u001b[32m      5\u001b[39m \u001b[43m)\u001b[49m\n\u001b[32m      7\u001b[39m \u001b[38;5;66;03m# Use the vectorstore as a retriever\u001b[39;00m\n\u001b[32m      8\u001b[39m retriever = vectorstore.as_retriever()\n",
      "\u001b[36mFile \u001b[39m\u001b[32m~/ml/langchain/env/lib/python3.13/site-packages/langchain_core/vectorstores/in_memory.py:567\u001b[39m, in \u001b[36mInMemoryVectorStore.from_texts\u001b[39m\u001b[34m(cls, texts, embedding, metadatas, **kwargs)\u001b[39m\n\u001b[32m    555\u001b[39m \u001b[38;5;129m@classmethod\u001b[39m\n\u001b[32m    556\u001b[39m \u001b[38;5;129m@override\u001b[39m\n\u001b[32m    557\u001b[39m \u001b[38;5;28;01mdef\u001b[39;00m\u001b[38;5;250m \u001b[39m\u001b[34mfrom_texts\u001b[39m(\n\u001b[32m   (...)\u001b[39m\u001b[32m    562\u001b[39m     **kwargs: Any,\n\u001b[32m    563\u001b[39m ) -> InMemoryVectorStore:\n\u001b[32m    564\u001b[39m     store = \u001b[38;5;28mcls\u001b[39m(\n\u001b[32m    565\u001b[39m         embedding=embedding,\n\u001b[32m    566\u001b[39m     )\n\u001b[32m--> \u001b[39m\u001b[32m567\u001b[39m     \u001b[43mstore\u001b[49m\u001b[43m.\u001b[49m\u001b[43madd_texts\u001b[49m\u001b[43m(\u001b[49m\u001b[43mtexts\u001b[49m\u001b[43m=\u001b[49m\u001b[43mtexts\u001b[49m\u001b[43m,\u001b[49m\u001b[43m \u001b[49m\u001b[43mmetadatas\u001b[49m\u001b[43m=\u001b[49m\u001b[43mmetadatas\u001b[49m\u001b[43m,\u001b[49m\u001b[43m \u001b[49m\u001b[43m*\u001b[49m\u001b[43m*\u001b[49m\u001b[43mkwargs\u001b[49m\u001b[43m)\u001b[49m\n\u001b[32m    568\u001b[39m     \u001b[38;5;28;01mreturn\u001b[39;00m store\n",
      "\u001b[36mFile \u001b[39m\u001b[32m~/ml/langchain/env/lib/python3.13/site-packages/langchain_core/vectorstores/base.py:106\u001b[39m, in \u001b[36mVectorStore.add_texts\u001b[39m\u001b[34m(self, texts, metadatas, ids, **kwargs)\u001b[39m\n\u001b[32m    103\u001b[39m metadatas_ = \u001b[38;5;28miter\u001b[39m(metadatas) \u001b[38;5;28;01mif\u001b[39;00m metadatas \u001b[38;5;28;01melse\u001b[39;00m cycle([{}])\n\u001b[32m    104\u001b[39m ids_: Iterator[Optional[\u001b[38;5;28mstr\u001b[39m]] = \u001b[38;5;28miter\u001b[39m(ids) \u001b[38;5;28;01mif\u001b[39;00m ids \u001b[38;5;28;01melse\u001b[39;00m cycle([\u001b[38;5;28;01mNone\u001b[39;00m])\n\u001b[32m    105\u001b[39m docs = [\n\u001b[32m--> \u001b[39m\u001b[32m106\u001b[39m     \u001b[43mDocument\u001b[49m\u001b[43m(\u001b[49m\u001b[38;5;28;43mid\u001b[39;49m\u001b[43m=\u001b[49m\u001b[43mid_\u001b[49m\u001b[43m,\u001b[49m\u001b[43m \u001b[49m\u001b[43mpage_content\u001b[49m\u001b[43m=\u001b[49m\u001b[43mtext\u001b[49m\u001b[43m,\u001b[49m\u001b[43m \u001b[49m\u001b[43mmetadata\u001b[49m\u001b[43m=\u001b[49m\u001b[43mmetadata_\u001b[49m\u001b[43m)\u001b[49m\n\u001b[32m    107\u001b[39m     \u001b[38;5;28;01mfor\u001b[39;00m text, metadata_, id_ \u001b[38;5;129;01min\u001b[39;00m \u001b[38;5;28mzip\u001b[39m(texts, metadatas_, ids_)\n\u001b[32m    108\u001b[39m ]\n\u001b[32m    109\u001b[39m \u001b[38;5;28;01mif\u001b[39;00m ids \u001b[38;5;129;01mis\u001b[39;00m \u001b[38;5;129;01mnot\u001b[39;00m \u001b[38;5;28;01mNone\u001b[39;00m:\n\u001b[32m    110\u001b[39m     \u001b[38;5;66;03m# For backward compatibility\u001b[39;00m\n\u001b[32m    111\u001b[39m     kwargs[\u001b[33m\"\u001b[39m\u001b[33mids\u001b[39m\u001b[33m\"\u001b[39m] = ids\n",
      "\u001b[36mFile \u001b[39m\u001b[32m~/ml/langchain/env/lib/python3.13/site-packages/langchain_core/documents/base.py:289\u001b[39m, in \u001b[36mDocument.__init__\u001b[39m\u001b[34m(self, page_content, **kwargs)\u001b[39m\n\u001b[32m    286\u001b[39m \u001b[38;5;250m\u001b[39m\u001b[33;03m\"\"\"Pass page_content in as positional or named arg.\"\"\"\u001b[39;00m\n\u001b[32m    287\u001b[39m \u001b[38;5;66;03m# my-py is complaining that page_content is not defined on the base class.\u001b[39;00m\n\u001b[32m    288\u001b[39m \u001b[38;5;66;03m# Here, we're relying on pydantic base class to handle the validation.\u001b[39;00m\n\u001b[32m--> \u001b[39m\u001b[32m289\u001b[39m \u001b[38;5;28;43msuper\u001b[39;49m\u001b[43m(\u001b[49m\u001b[43m)\u001b[49m\u001b[43m.\u001b[49m\u001b[34;43m__init__\u001b[39;49m\u001b[43m(\u001b[49m\u001b[43mpage_content\u001b[49m\u001b[43m=\u001b[49m\u001b[43mpage_content\u001b[49m\u001b[43m,\u001b[49m\u001b[43m \u001b[49m\u001b[43m*\u001b[49m\u001b[43m*\u001b[49m\u001b[43mkwargs\u001b[49m\u001b[43m)\u001b[49m\n",
      "\u001b[36mFile \u001b[39m\u001b[32m~/ml/langchain/env/lib/python3.13/site-packages/langchain_core/load/serializable.py:130\u001b[39m, in \u001b[36mSerializable.__init__\u001b[39m\u001b[34m(self, *args, **kwargs)\u001b[39m\n\u001b[32m    128\u001b[39m \u001b[38;5;28;01mdef\u001b[39;00m\u001b[38;5;250m \u001b[39m\u001b[34m__init__\u001b[39m(\u001b[38;5;28mself\u001b[39m, *args: Any, **kwargs: Any) -> \u001b[38;5;28;01mNone\u001b[39;00m:\n\u001b[32m    129\u001b[39m \u001b[38;5;250m    \u001b[39m\u001b[33;03m\"\"\"\"\"\"\u001b[39;00m  \u001b[38;5;66;03m# noqa: D419\u001b[39;00m\n\u001b[32m--> \u001b[39m\u001b[32m130\u001b[39m     \u001b[38;5;28;43msuper\u001b[39;49m\u001b[43m(\u001b[49m\u001b[43m)\u001b[49m\u001b[43m.\u001b[49m\u001b[34;43m__init__\u001b[39;49m\u001b[43m(\u001b[49m\u001b[43m*\u001b[49m\u001b[43margs\u001b[49m\u001b[43m,\u001b[49m\u001b[43m \u001b[49m\u001b[43m*\u001b[49m\u001b[43m*\u001b[49m\u001b[43mkwargs\u001b[49m\u001b[43m)\u001b[49m\n",
      "\u001b[36mFile \u001b[39m\u001b[32m~/ml/langchain/env/lib/python3.13/site-packages/pydantic/main.py:253\u001b[39m, in \u001b[36mBaseModel.__init__\u001b[39m\u001b[34m(self, **data)\u001b[39m\n\u001b[32m    251\u001b[39m \u001b[38;5;66;03m# `__tracebackhide__` tells pytest and some other tools to omit this function from tracebacks\u001b[39;00m\n\u001b[32m    252\u001b[39m __tracebackhide__ = \u001b[38;5;28;01mTrue\u001b[39;00m\n\u001b[32m--> \u001b[39m\u001b[32m253\u001b[39m validated_self = \u001b[38;5;28;43mself\u001b[39;49m\u001b[43m.\u001b[49m\u001b[43m__pydantic_validator__\u001b[49m\u001b[43m.\u001b[49m\u001b[43mvalidate_python\u001b[49m\u001b[43m(\u001b[49m\u001b[43mdata\u001b[49m\u001b[43m,\u001b[49m\u001b[43m \u001b[49m\u001b[43mself_instance\u001b[49m\u001b[43m=\u001b[49m\u001b[38;5;28;43mself\u001b[39;49m\u001b[43m)\u001b[49m\n\u001b[32m    254\u001b[39m \u001b[38;5;28;01mif\u001b[39;00m \u001b[38;5;28mself\u001b[39m \u001b[38;5;129;01mis\u001b[39;00m \u001b[38;5;129;01mnot\u001b[39;00m validated_self:\n\u001b[32m    255\u001b[39m     warnings.warn(\n\u001b[32m    256\u001b[39m         \u001b[33m'\u001b[39m\u001b[33mA custom validator is returning a value other than `self`.\u001b[39m\u001b[38;5;130;01m\\n\u001b[39;00m\u001b[33m'\u001b[39m\n\u001b[32m    257\u001b[39m         \u001b[33m\"\u001b[39m\u001b[33mReturning anything other than `self` from a top level model validator isn\u001b[39m\u001b[33m'\u001b[39m\u001b[33mt supported when validating via `__init__`.\u001b[39m\u001b[38;5;130;01m\\n\u001b[39;00m\u001b[33m\"\u001b[39m\n\u001b[32m    258\u001b[39m         \u001b[33m'\u001b[39m\u001b[33mSee the `model_validator` docs (https://docs.pydantic.dev/latest/concepts/validators/#model-validators) for more details.\u001b[39m\u001b[33m'\u001b[39m,\n\u001b[32m    259\u001b[39m         stacklevel=\u001b[32m2\u001b[39m,\n\u001b[32m    260\u001b[39m     )\n",
      "\u001b[31mValidationError\u001b[39m: 1 validation error for Document\npage_content\n  Input should be a valid string [type=string_type, input_value=Document(metadata={'sourc...d it through the ages.'), input_type=Document]\n    For further information visit https://errors.pydantic.dev/2.11/v/string_type"
     ]
    }
   ],
   "source": [
    "from langchain_core.vectorstores import InMemoryVectorStore\n",
    "vectorstore = InMemoryVectorStore.from_texts(\n",
    "    documents,\n",
    "    embedding=embeddings,\n",
    ")\n",
    "\n",
    "# Use the vectorstore as a retriever\n",
    "retriever = vectorstore.as_retriever()\n",
    "\n"
   ]
  }
 ],
 "metadata": {
  "kernelspec": {
   "display_name": "env",
   "language": "python",
   "name": "python3"
  },
  "language_info": {
   "codemirror_mode": {
    "name": "ipython",
    "version": 3
   },
   "file_extension": ".py",
   "mimetype": "text/x-python",
   "name": "python",
   "nbconvert_exporter": "python",
   "pygments_lexer": "ipython3",
   "version": "3.13.3"
  }
 },
 "nbformat": 4,
 "nbformat_minor": 2
}
