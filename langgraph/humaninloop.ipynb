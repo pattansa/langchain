{
 "cells": [
  {
   "cell_type": "code",
   "execution_count": 1,
   "metadata": {},
   "outputs": [
    {
     "data": {
      "text/plain": [
       "True"
      ]
     },
     "execution_count": 1,
     "metadata": {},
     "output_type": "execute_result"
    }
   ],
   "source": [
    "from dotenv import load_dotenv\n",
    "from langchain_groq import ChatGroq\n",
    "from langchain_core.tools import tool\n",
    "from langchain_community.tools.tavily_search import TavilySearchResults\n",
    "from typing import TypedDict, Sequence, Annotated\n",
    "import operator\n",
    "from langchain_core.messages import BaseMessage\n",
    "from langgraph.graph import StateGraph, START,END\n",
    "from langgraph.prebuilt import ToolNode, tools_condition\n",
    "from langgraph.checkpoint.memory import MemorySaver\n",
    "\n",
    "from langchain_core.messages import HumanMessage\n",
    "\n",
    "load_dotenv()"
   ]
  },
  {
   "cell_type": "code",
   "execution_count": 2,
   "metadata": {},
   "outputs": [],
   "source": [
    "llm=ChatGroq(model_name=\"deepseek-r1-distill-llama-70b\")"
   ]
  },
  {
   "cell_type": "code",
   "execution_count": 3,
   "metadata": {},
   "outputs": [],
   "source": [
    "@tool\n",
    "def multiply(x: int, y: int) -> int:\n",
    "    \"\"\"Multiplies two numbers.\"\"\"\n",
    "    return x * y\n",
    "\n",
    "@tool\n",
    "def search(query: str):\n",
    "    \"\"\"search the web for a query and return the results\"\"\"\n",
    "    tavily=TavilySearchResults()\n",
    "    result=tavily.invoke(query)\n",
    "    return f\"Result for {query} is: \\n{result}\"\n",
    "\n",
    "\n",
    "tools = [multiply, search]\n",
    "tool_node=ToolNode(tools)\n",
    "\n",
    "llm_with_tools=llm.bind_tools(tools)\n",
    "memory=MemorySaver()\n",
    "\n"
   ]
  },
  {
   "cell_type": "code",
   "execution_count": 5,
   "metadata": {},
   "outputs": [
    {
     "data": {
      "text/plain": [
       "AIMessage(content='', additional_kwargs={'tool_calls': [{'id': '8qdxrpyfy', 'function': {'arguments': '{\"query\":\"current GDP of India 2023\"}', 'name': 'search'}, 'type': 'function'}]}, response_metadata={'token_usage': {'completion_tokens': 63, 'prompt_tokens': 174, 'total_tokens': 237, 'completion_time': 0.270608385, 'prompt_time': 0.011530022, 'queue_time': 0.200548114, 'total_time': 0.282138407}, 'model_name': 'deepseek-r1-distill-llama-70b', 'system_fingerprint': 'fp_1bbe7845ec', 'finish_reason': 'tool_calls', 'logprobs': None}, id='run--a507640b-64b6-4817-bf5e-426be17a452b-0', tool_calls=[{'name': 'search', 'args': {'query': 'current GDP of India 2023'}, 'id': '8qdxrpyfy', 'type': 'tool_call'}], usage_metadata={'input_tokens': 174, 'output_tokens': 63, 'total_tokens': 237})"
      ]
     },
     "execution_count": 5,
     "metadata": {},
     "output_type": "execute_result"
    }
   ],
   "source": [
    "result=llm_with_tools.invoke(\"what is current gdp of india?\")\n",
    "result"
   ]
  },
  {
   "cell_type": "code",
   "execution_count": 7,
   "metadata": {},
   "outputs": [
    {
     "data": {
      "text/plain": [
       "[{'name': 'search',\n",
       "  'args': {'query': 'current GDP of India 2023'},\n",
       "  'id': '8qdxrpyfy',\n",
       "  'type': 'tool_call'}]"
      ]
     },
     "execution_count": 7,
     "metadata": {},
     "output_type": "execute_result"
    }
   ],
   "source": [
    "result.tool_calls"
   ]
  },
  {
   "cell_type": "code",
   "execution_count": 11,
   "metadata": {},
   "outputs": [],
   "source": [
    "tool_mapping={tool.name:tool for tool in tools}\n",
    "\n",
    "class AgentState(TypedDict):\n",
    "    \"\"\"State for the agent.\"\"\"\n",
    "    messages: Annotated[Sequence[BaseMessage],operator.add]\n",
    "\n",
    "def invoke_model(state:AgentState):\n",
    "    messages=state[\"messages\"]\n",
    "    question=messages[-1]\n",
    "    response=llm_with_tools.invoke(question)\n",
    "    return {\"messages\":[response]}\n",
    "\n",
    "def router(state:AgentState):\n",
    "    tool_calls=state[\"messages\"][-1].tool_calls\n",
    "    if len(tool_calls)>0:\n",
    "        return \"tool\" #key name\n",
    "    else:\n",
    "        return \"end\" #key name\n",
    "\n",
    "def invoke_tool(state:AgentState):\n",
    "    tool_details=state[\"messages\"][-1].tool_calls\n",
    "    \n",
    "    if tool_details is None:\n",
    "        return Exception(\"No tool calls found in the last message.\")\n",
    "    \n",
    "    print(f\"Seleted tool: {tool_details[0]['name']}\")\n",
    "    \n",
    "    if tool_details[0][\"name\"]==\"search\":\n",
    "        response=input(prompt=f\"[yes/no] do you want to continue with this expensive web search\")\n",
    "        if response.lower()==\"no\":\n",
    "            print(\"web search discarded by the user. exiting gracefully\")\n",
    "            raise Exception(\"Web search discarded by the user.\")\n",
    "            \n",
    "    \n",
    "    response=tool_mapping[tool_details[0][\"name\"]].invoke(tool_details[0][\"args\"])\n",
    "    return {\"messages\":[response]}\n",
    "\n"
   ]
  },
  {
   "cell_type": "code",
   "execution_count": 12,
   "metadata": {},
   "outputs": [
    {
     "data": {
      "image/png": "[encoded data removed]",
      "text/plain": [
       "<IPython.core.display.Image object>"
      ]
     },
     "metadata": {},
     "output_type": "display_data"
    }
   ],
   "source": [
    "graph=StateGraph(AgentState)\n",
    "graph.add_node(\"ai_assistant\", invoke_model)\n",
    "graph.add_node(\"tool\", invoke_tool)\n",
    "graph.add_conditional_edges(\"ai_assistant\",\n",
    "                            router,\n",
    "                            {\n",
    "                                \"tool\":\"tool\", ##with the key tool which value is associated <tool>\n",
    "                                \"end\":END\n",
    "                            }\n",
    "                            )\n",
    "graph.add_edge(\"tool\", END)\n",
    "graph.set_entry_point(\"ai_assistant\")\n",
    "app=graph.compile()\n",
    "from IPython.display import Image, display\n",
    "display(Image(app.get_graph().draw_mermaid_png()))"
   ]
  },
  {
   "cell_type": "code",
   "execution_count": 13,
   "metadata": {},
   "outputs": [
    {
     "name": "stdout",
     "output_type": "stream",
     "text": [
      "Seleted tool: search\n",
      "web search discarded by the user. exiting gracefully\n"
     ]
    },
    {
     "ename": "Exception",
     "evalue": "Web search discarded by the user.",
     "output_type": "error",
     "traceback": [
      "\u001b[31m---------------------------------------------------------------------------\u001b[39m",
      "\u001b[31mException\u001b[39m                                 Traceback (most recent call last)",
      "\u001b[36mCell\u001b[39m\u001b[36m \u001b[39m\u001b[32mIn[13]\u001b[39m\u001b[32m, line 1\u001b[39m\n\u001b[32m----> \u001b[39m\u001b[32m1\u001b[39m \u001b[43mapp\u001b[49m\u001b[43m.\u001b[49m\u001b[43minvoke\u001b[49m\u001b[43m(\u001b[49m\u001b[43m{\u001b[49m\u001b[33;43m\"\u001b[39;49m\u001b[33;43mmessages\u001b[39;49m\u001b[33;43m\"\u001b[39;49m\u001b[43m:\u001b[49m\u001b[43m[\u001b[49m\u001b[33;43m\"\u001b[39;49m\u001b[33;43mWhat is the current gdp of the india?\u001b[39;49m\u001b[33;43m\"\u001b[39;49m\u001b[43m]\u001b[49m\u001b[43m}\u001b[49m\u001b[43m)\u001b[49m\n",
      "\u001b[36mFile \u001b[39m\u001b[32m~/ml/langchain/env/lib/python3.13/site-packages/langgraph/pregel/__init__.py:2823\u001b[39m, in \u001b[36mPregel.invoke\u001b[39m\u001b[34m(self, input, config, stream_mode, output_keys, interrupt_before, interrupt_after, checkpoint_during, debug, **kwargs)\u001b[39m\n\u001b[32m   2820\u001b[39m chunks: \u001b[38;5;28mlist\u001b[39m[Union[\u001b[38;5;28mdict\u001b[39m[\u001b[38;5;28mstr\u001b[39m, Any], Any]] = []\n\u001b[32m   2821\u001b[39m interrupts: \u001b[38;5;28mlist\u001b[39m[Interrupt] = []\n\u001b[32m-> \u001b[39m\u001b[32m2823\u001b[39m \u001b[43m\u001b[49m\u001b[38;5;28;43;01mfor\u001b[39;49;00m\u001b[43m \u001b[49m\u001b[43mchunk\u001b[49m\u001b[43m \u001b[49m\u001b[38;5;129;43;01min\u001b[39;49;00m\u001b[43m \u001b[49m\u001b[38;5;28;43mself\u001b[39;49m\u001b[43m.\u001b[49m\u001b[43mstream\u001b[49m\u001b[43m(\u001b[49m\n\u001b[32m   2824\u001b[39m \u001b[43m    \u001b[49m\u001b[38;5;28;43minput\u001b[39;49m\u001b[43m,\u001b[49m\n\u001b[32m   2825\u001b[39m \u001b[43m    \u001b[49m\u001b[43mconfig\u001b[49m\u001b[43m,\u001b[49m\n\u001b[32m   2826\u001b[39m \u001b[43m    \u001b[49m\u001b[43mstream_mode\u001b[49m\u001b[43m=\u001b[49m\u001b[43mstream_mode\u001b[49m\u001b[43m,\u001b[49m\n\u001b[32m   2827\u001b[39m \u001b[43m    \u001b[49m\u001b[43moutput_keys\u001b[49m\u001b[43m=\u001b[49m\u001b[43moutput_keys\u001b[49m\u001b[43m,\u001b[49m\n\u001b[32m   2828\u001b[39m \u001b[43m    \u001b[49m\u001b[43minterrupt_before\u001b[49m\u001b[43m=\u001b[49m\u001b[43minterrupt_before\u001b[49m\u001b[43m,\u001b[49m\n\u001b[32m   2829\u001b[39m \u001b[43m    \u001b[49m\u001b[43minterrupt_after\u001b[49m\u001b[43m=\u001b[49m\u001b[43minterrupt_after\u001b[49m\u001b[43m,\u001b[49m\n\u001b[32m   2830\u001b[39m \u001b[43m    \u001b[49m\u001b[43mcheckpoint_during\u001b[49m\u001b[43m=\u001b[49m\u001b[43mcheckpoint_during\u001b[49m\u001b[43m,\u001b[49m\n\u001b[32m   2831\u001b[39m \u001b[43m    \u001b[49m\u001b[43mdebug\u001b[49m\u001b[43m=\u001b[49m\u001b[43mdebug\u001b[49m\u001b[43m,\u001b[49m\n\u001b[32m   2832\u001b[39m \u001b[43m    \u001b[49m\u001b[43m*\u001b[49m\u001b[43m*\u001b[49m\u001b[43mkwargs\u001b[49m\u001b[43m,\u001b[49m\n\u001b[32m   2833\u001b[39m \u001b[43m\u001b[49m\u001b[43m)\u001b[49m\u001b[43m:\u001b[49m\n\u001b[32m   2834\u001b[39m \u001b[43m    \u001b[49m\u001b[38;5;28;43;01mif\u001b[39;49;00m\u001b[43m \u001b[49m\u001b[43mstream_mode\u001b[49m\u001b[43m \u001b[49m\u001b[43m==\u001b[49m\u001b[43m \u001b[49m\u001b[33;43m\"\u001b[39;49m\u001b[33;43mvalues\u001b[39;49m\u001b[33;43m\"\u001b[39;49m\u001b[43m:\u001b[49m\n\u001b[32m   2835\u001b[39m \u001b[43m        \u001b[49m\u001b[38;5;28;43;01mif\u001b[39;49;00m\u001b[43m \u001b[49m\u001b[43m(\u001b[49m\n\u001b[32m   2836\u001b[39m \u001b[43m            \u001b[49m\u001b[38;5;28;43misinstance\u001b[39;49m\u001b[43m(\u001b[49m\u001b[43mchunk\u001b[49m\u001b[43m,\u001b[49m\u001b[43m \u001b[49m\u001b[38;5;28;43mdict\u001b[39;49m\u001b[43m)\u001b[49m\n\u001b[32m   2837\u001b[39m \u001b[43m            \u001b[49m\u001b[38;5;129;43;01mand\u001b[39;49;00m\u001b[43m \u001b[49m\u001b[43m(\u001b[49m\u001b[43mints\u001b[49m\u001b[43m \u001b[49m\u001b[43m:=\u001b[49m\u001b[43m \u001b[49m\u001b[43mchunk\u001b[49m\u001b[43m.\u001b[49m\u001b[43mget\u001b[49m\u001b[43m(\u001b[49m\u001b[43mINTERRUPT\u001b[49m\u001b[43m)\u001b[49m\u001b[43m)\u001b[49m\u001b[43m \u001b[49m\u001b[38;5;129;43;01mis\u001b[39;49;00m\u001b[43m \u001b[49m\u001b[38;5;129;43;01mnot\u001b[39;49;00m\u001b[43m \u001b[49m\u001b[38;5;28;43;01mNone\u001b[39;49;00m\n\u001b[32m   2838\u001b[39m \u001b[43m        \u001b[49m\u001b[43m)\u001b[49m\u001b[43m:\u001b[49m\n",
      "\u001b[36mFile \u001b[39m\u001b[32m~/ml/langchain/env/lib/python3.13/site-packages/langgraph/pregel/__init__.py:2461\u001b[39m, in \u001b[36mPregel.stream\u001b[39m\u001b[34m(self, input, config, stream_mode, output_keys, interrupt_before, interrupt_after, checkpoint_during, debug, subgraphs)\u001b[39m\n\u001b[32m   2455\u001b[39m     \u001b[38;5;66;03m# Similarly to Bulk Synchronous Parallel / Pregel model\u001b[39;00m\n\u001b[32m   2456\u001b[39m     \u001b[38;5;66;03m# computation proceeds in steps, while there are channel updates.\u001b[39;00m\n\u001b[32m   2457\u001b[39m     \u001b[38;5;66;03m# Channel updates from step N are only visible in step N+1\u001b[39;00m\n\u001b[32m   2458\u001b[39m     \u001b[38;5;66;03m# channels are guaranteed to be immutable for the duration of the step,\u001b[39;00m\n\u001b[32m   2459\u001b[39m     \u001b[38;5;66;03m# with channel updates applied only at the transition between steps.\u001b[39;00m\n\u001b[32m   2460\u001b[39m     \u001b[38;5;28;01mwhile\u001b[39;00m loop.tick(input_keys=\u001b[38;5;28mself\u001b[39m.input_channels):\n\u001b[32m-> \u001b[39m\u001b[32m2461\u001b[39m \u001b[43m        \u001b[49m\u001b[38;5;28;43;01mfor\u001b[39;49;00m\u001b[43m \u001b[49m\u001b[43m_\u001b[49m\u001b[43m \u001b[49m\u001b[38;5;129;43;01min\u001b[39;49;00m\u001b[43m \u001b[49m\u001b[43mrunner\u001b[49m\u001b[43m.\u001b[49m\u001b[43mtick\u001b[49m\u001b[43m(\u001b[49m\n\u001b[32m   2462\u001b[39m \u001b[43m            \u001b[49m\u001b[43mloop\u001b[49m\u001b[43m.\u001b[49m\u001b[43mtasks\u001b[49m\u001b[43m.\u001b[49m\u001b[43mvalues\u001b[49m\u001b[43m(\u001b[49m\u001b[43m)\u001b[49m\u001b[43m,\u001b[49m\n\u001b[32m   2463\u001b[39m \u001b[43m            \u001b[49m\u001b[43mtimeout\u001b[49m\u001b[43m=\u001b[49m\u001b[38;5;28;43mself\u001b[39;49m\u001b[43m.\u001b[49m\u001b[43mstep_timeout\u001b[49m\u001b[43m,\u001b[49m\n\u001b[32m   2464\u001b[39m \u001b[43m            \u001b[49m\u001b[43mretry_policy\u001b[49m\u001b[43m=\u001b[49m\u001b[38;5;28;43mself\u001b[39;49m\u001b[43m.\u001b[49m\u001b[43mretry_policy\u001b[49m\u001b[43m,\u001b[49m\n\u001b[32m   2465\u001b[39m \u001b[43m            \u001b[49m\u001b[43mget_waiter\u001b[49m\u001b[43m=\u001b[49m\u001b[43mget_waiter\u001b[49m\u001b[43m,\u001b[49m\n\u001b[32m   2466\u001b[39m \u001b[43m        \u001b[49m\u001b[43m)\u001b[49m\u001b[43m:\u001b[49m\n\u001b[32m   2467\u001b[39m \u001b[43m            \u001b[49m\u001b[38;5;66;43;03m# emit output\u001b[39;49;00m\n\u001b[32m   2468\u001b[39m \u001b[43m            \u001b[49m\u001b[38;5;28;43;01myield from\u001b[39;49;00m\u001b[43m \u001b[49m\u001b[43moutput\u001b[49m\u001b[43m(\u001b[49m\u001b[43m)\u001b[49m\n\u001b[32m   2469\u001b[39m \u001b[38;5;66;03m# emit output\u001b[39;00m\n",
      "\u001b[36mCell\u001b[39m\u001b[36m \u001b[39m\u001b[32mIn[11]\u001b[39m\u001b[32m, line 32\u001b[39m, in \u001b[36minvoke_tool\u001b[39m\u001b[34m(state)\u001b[39m\n\u001b[32m     30\u001b[39m     \u001b[38;5;28;01mif\u001b[39;00m response.lower()==\u001b[33m\"\u001b[39m\u001b[33mno\u001b[39m\u001b[33m\"\u001b[39m:\n\u001b[32m     31\u001b[39m         \u001b[38;5;28mprint\u001b[39m(\u001b[33m\"\u001b[39m\u001b[33mweb search discarded by the user. exiting gracefully\u001b[39m\u001b[33m\"\u001b[39m)\n\u001b[32m---> \u001b[39m\u001b[32m32\u001b[39m         \u001b[38;5;28;01mraise\u001b[39;00m \u001b[38;5;167;01mException\u001b[39;00m(\u001b[33m\"\u001b[39m\u001b[33mWeb search discarded by the user.\u001b[39m\u001b[33m\"\u001b[39m)\n\u001b[32m     35\u001b[39m response=tool_mapping[tool_details[\u001b[32m0\u001b[39m][\u001b[33m\"\u001b[39m\u001b[33mname\u001b[39m\u001b[33m\"\u001b[39m]].invoke(tool_details[\u001b[32m0\u001b[39m][\u001b[33m\"\u001b[39m\u001b[33margs\u001b[39m\u001b[33m\"\u001b[39m])\n\u001b[32m     36\u001b[39m \u001b[38;5;28;01mreturn\u001b[39;00m {\u001b[33m\"\u001b[39m\u001b[33mmessages\u001b[39m\u001b[33m\"\u001b[39m:[response]}\n",
      "\u001b[31mException\u001b[39m: Web search discarded by the user.",
      "During task with name 'tool' and id '5b8037d6-33cd-2349-3160-c1278923cdde'"
     ]
    }
   ],
   "source": [
    "app.invoke({\"messages\":[\"What is the current gdp of the india?\"]})"
   ]
  },
  {
   "cell_type": "code",
   "execution_count": 9,
   "metadata": {},
   "outputs": [
    {
     "data": {
      "image/png": "[encoded data removed]",
      "text/plain": [
       "<IPython.core.display.Image object>"
      ]
     },
     "metadata": {},
     "output_type": "display_data"
    }
   ],
   "source": [
    "def ai_assistant(state:AgentState):\n",
    "    response=llm_with_tools.invoke(state[\"messages\"])\n",
    "    return {\"messages\":[response]}\n",
    "\n",
    "graph_builder=StateGraph(AgentState)\n",
    "graph_builder.add_node(\"ai_assistant\", ai_assistant)\n",
    "graph_builder.add_node(\"tools\", tool_node)\n",
    "graph_builder.add_edge(START,\"ai_assistant\")\n",
    "graph_builder.add_conditional_edges(\"ai_assistant\",\n",
    "                                    tools_condition,\n",
    "                                    )\n",
    "graph_builder.add_edge(\"tools\", \"ai_assistant\")\n",
    "app2=graph_builder.compile(checkpointer=memory,interrupt_before=[\"tools\"])\n",
    "from IPython.display import Image, display\n",
    "display(Image(app2.get_graph().draw_mermaid_png()))"
   ]
  },
  {
   "cell_type": "code",
   "execution_count": 14,
   "metadata": {},
   "outputs": [
    {
     "data": {
      "text/plain": [
       "{'messages': [HumanMessage(content='What is the current gdp of the china?', additional_kwargs={}, response_metadata={}),\n",
       "  AIMessage(content='', additional_kwargs={'tool_calls': [{'id': 'rcxq0acnf', 'function': {'arguments': '{\"query\":\"current GDP of China\"}', 'name': 'search'}, 'type': 'function'}]}, response_metadata={'token_usage': {'completion_tokens': 169, 'prompt_tokens': 176, 'total_tokens': 345, 'completion_time': 0.810990989, 'prompt_time': 0.018497161, 'queue_time': 0.20067206099999998, 'total_time': 0.82948815}, 'model_name': 'deepseek-r1-distill-llama-70b', 'system_fingerprint': 'fp_1bbe7845ec', 'finish_reason': 'tool_calls', 'logprobs': None}, id='run--e9e9a2b3-d382-46c3-8589-ef799cc22f68-0', tool_calls=[{'name': 'search', 'args': {'query': 'current GDP of China'}, 'id': 'rcxq0acnf', 'type': 'tool_call'}], usage_metadata={'input_tokens': 176, 'output_tokens': 169, 'total_tokens': 345}),\n",
       "  HumanMessage(content='What is the current gdp of the china?', additional_kwargs={}, response_metadata={}),\n",
       "  AIMessage(content='', additional_kwargs={'tool_calls': [{'id': '9jwm16f3t', 'function': {'arguments': '{\"query\":\"current GDP of China\"}', 'name': 'search'}, 'type': 'function'}]}, response_metadata={'token_usage': {'completion_tokens': 146, 'prompt_tokens': 216, 'total_tokens': 362, 'completion_time': 0.670063625, 'prompt_time': 0.013313767, 'queue_time': 0.21261666099999998, 'total_time': 0.683377392}, 'model_name': 'deepseek-r1-distill-llama-70b', 'system_fingerprint': 'fp_1bbe7845ec', 'finish_reason': 'tool_calls', 'logprobs': None}, id='run--7e41599f-9d72-4a34-8ebc-e3a96aabc285-0', tool_calls=[{'name': 'search', 'args': {'query': 'current GDP of China'}, 'id': '9jwm16f3t', 'type': 'tool_call'}], usage_metadata={'input_tokens': 216, 'output_tokens': 146, 'total_tokens': 362})]}"
      ]
     },
     "execution_count": 14,
     "metadata": {},
     "output_type": "execute_result"
    }
   ],
   "source": [
    "config={\"configurable\":{\"thread_id\":\"1\"}}\n",
    "response=app2.invoke({\"messages\":[HumanMessage(\"What is the current gdp of the china?\")]},config=config)\n",
    "response"
   ]
  },
  {
   "cell_type": "code",
   "execution_count": 17,
   "metadata": {},
   "outputs": [
    {
     "name": "stdout",
     "output_type": "stream",
     "text": [
      "{'messages': [HumanMessage(content='What is the current gdp of the china?', additional_kwargs={}, response_metadata={}), AIMessage(content='', additional_kwargs={'tool_calls': [{'id': 'rcxq0acnf', 'function': {'arguments': '{\"query\":\"current GDP of China\"}', 'name': 'search'}, 'type': 'function'}]}, response_metadata={'token_usage': {'completion_tokens': 169, 'prompt_tokens': 176, 'total_tokens': 345, 'completion_time': 0.810990989, 'prompt_time': 0.018497161, 'queue_time': 0.20067206099999998, 'total_time': 0.82948815}, 'model_name': 'deepseek-r1-distill-llama-70b', 'system_fingerprint': 'fp_1bbe7845ec', 'finish_reason': 'tool_calls', 'logprobs': None}, id='run--e9e9a2b3-d382-46c3-8589-ef799cc22f68-0', tool_calls=[{'name': 'search', 'args': {'query': 'current GDP of China'}, 'id': 'rcxq0acnf', 'type': 'tool_call'}], usage_metadata={'input_tokens': 176, 'output_tokens': 169, 'total_tokens': 345}), HumanMessage(content='What is the current gdp of the china?', additional_kwargs={}, response_metadata={}), AIMessage(content='', additional_kwargs={'tool_calls': [{'id': '9jwm16f3t', 'function': {'arguments': '{\"query\":\"current GDP of China\"}', 'name': 'search'}, 'type': 'function'}]}, response_metadata={'token_usage': {'completion_tokens': 146, 'prompt_tokens': 216, 'total_tokens': 362, 'completion_time': 0.670063625, 'prompt_time': 0.013313767, 'queue_time': 0.21261666099999998, 'total_time': 0.683377392}, 'model_name': 'deepseek-r1-distill-llama-70b', 'system_fingerprint': 'fp_1bbe7845ec', 'finish_reason': 'tool_calls', 'logprobs': None}, id='run--7e41599f-9d72-4a34-8ebc-e3a96aabc285-0', tool_calls=[{'name': 'search', 'args': {'query': 'current GDP of China'}, 'id': '9jwm16f3t', 'type': 'tool_call'}], usage_metadata={'input_tokens': 216, 'output_tokens': 146, 'total_tokens': 362}), ToolMessage(content='Result for current GDP of China is: \\n[{\\'title\\': \\'China - GDP - 2025 Data 2026 Forecast 1960-2023 Historical\\', \\'url\\': \\'https://tradingeconomics.com/china/gdp-us-dollar-wb-data.html\\', \\'content\\': \\'GDP (current US$) in China was reported at 17794783039552 USD in 2023, according to the World Bank collection of development indicators, compiled from officially recognized sources. China - GDP - actual values, historical data, forecasts and projections were sourced from the World Bank on June of 2025.\\', \\'score\\': 0.91362286}, {\\'title\\': \\'China GDP 2024 Estimate and 2025 Projection - World Economics\\', \\'url\\': \\'https://www.worldeconomics.com/GrossDomesticProduct/Current-GDP/China.aspx\\', \\'content\\': \"China\\'s Current GDP is projected to be $19.5 Trillion by the end of 2025, from an estimated $18.7 Trillion in 2024 in nominal terms. Explore and download the latest economic data and forecasts for China, including historical trends and related data.\", \\'score\\': 0.9051298}, {\\'title\\': \\'China GDP - Trading Economics\\', \\'url\\': \\'https://tradingeconomics.com/china/gdp\\', \\'content\\': \\'GDP in China is expected to reach 18542.00 USD Billion by the end of 2025, according to Trading Economics global macro models and analysts expectations. In the\\', \\'score\\': 0.8315952}, {\\'title\\': \\'World GDP Rankings 2025 | Top 10 Countries Ranked By GDP - Forbes India\\', \\'url\\': \\'https://www.forbesindia.com/article/explainers/top-10-largest-economies-in-the-world/86159/1\\', \\'content\\': \\'| Rank & Country | GDP (USD) | 2025 Projected Real GDP (% Change) | GDP Per Capita (Current Prices) (USD) |\\\\n| --- | --- | --- | --- |\\\\n| #1 United States (U.S) | $30.51 trillion | 1.8% | $89.11 thousand |\\\\n| #2 China | $19.23 trillion | 4.0% | $13.69 thousand |\\\\n| #3 Germany | $4.74 trillion | -0.1% | $55.91 thousand |\\\\n| #4 India | $4.19 trillion | 6.2% | $2.88 thousand |\\\\n| #5 Japan | $4.19 trillion | 0.6% | $33.96 thousand |\\\\n| #6 United Kingdom (U.K.) | $3.84 trillion | 1.1% | $54.95 thousand | [...] | Rank & Country | GDP (USD) | 2025 Projected Real GDP (% Change) | GDP Per Capita (Current Prices) (USD) |\\\\n| --- | --- | --- | --- |\\\\n| #1 United States (U.S) | $30.51 trillion | 1.8% | $89.11 thousand |\\\\n| #2 China | $19.23 trillion | 4.0% | $13.69 thousand |\\\\n| #3 Germany | $4.74 trillion | -0.1% | $55.91 thousand |\\\\n| #4 India | $4.19 trillion | 6.2% | $2.88 thousand |\\\\n| #5 Japan | $4.19 trillion | 0.6% | $33.96 thousand |\\\\n| #6 United Kingdom (U.K.) | $3.84 trillion | 1.1% | $54.95 thousand | [...] | Rank & Country | GDP (USD) | 2025 Projected Real GDP (% Change) | GDP Per Capita (Current Prices) (USD) |\\\\n| --- | --- | --- | --- |\\\\n| #1 United States (U.S) | $30.51 trillion | 1.8% | $89.11 thousand |\\\\n| #2 China | $19.23 trillion | 4.0% | $13.69 thousand |\\\\n| #3 Germany | $4.74 trillion | -0.1% | $55.91 thousand |\\\\n| #4 India | $4.19 trillion | 6.2% | $2.88 thousand |\\\\n| #5 Japan | $4.19 trillion | 0.6% | $33.96 thousand |\\\\n| #6 United Kingdom (U.K.) | $3.84 trillion | 1.1% | $54.95 thousand |\\', \\'score\\': 0.7548612}, {\\'title\\': \\'China GDP - Gross Domestic Product 2025 | countryeconomy.com\\', \\'url\\': \\'https://countryeconomy.com/gdp/china?year=2025\\', \\'content\\': \\'| 1960 |  | $59,716M |  | [...] | Date | GDP per capita | GDP per capita | GDP P.C. Annual Growth | GDP P.C. Annual Growth |\\\\n| --- | --- | --- | --- | --- |\\\\n| 2024 | €12,303 | $13,313 | 2.7% | 2.7% |\\\\n| 2023 | €11,983 | $12,961 | -2.6% | -0.1% |\\\\n| 2022 | €12,305 | $12,968 | 13.1% | 0.7% |\\\\n| 2021 | €10,881 | $12,878 | 16.1% | 20.4% |\\\\n| 2020 | €9,372 | $10,696 | 1.5% | 3.5% |\\\\n| 2019 | €9,231 | $10,334 | 8.6% | 2.9% |\\\\n| 2018 | €8,498 | $10,040 | 7.5% | 12.4% |\\\\n| 2017 | €7,908 | $8,930 | 6.4% | 8.6% | [...] | Date | Annual GDP | Annual GDP | GDP Growth (%) |\\\\n| --- | --- | --- | --- |\\\\n| 2024 | €17,326,316M | $18,743,802M | 5.0% |\\\\n| 2023 | €16,892,279M | $18,270,356M | 5.2% |\\\\n| 2022 | €17,371,872M | $18,316,765M | 3.0% |\\\\n| 2021 | €15,370,007M | $18,201,698M | 8.4% |\\\\n| 2020 | €13,233,688M | $14,996,414M | 2.1% |\\\\n| 2019 | €13,015,752M | $14,560,167M | 6.1% |\\\\n| 2018 | €11,943,362M | $14,147,765M | 6.7% |\\\\n| 2017 | €11,071,892M | $12,537,559M | 6.9% |\\\\n| 2016 | €10,345,223M | $11,456,024M | 6.8% |\\', \\'score\\': 0.7343678}]', name='search', tool_call_id='9jwm16f3t'), AIMessage(content=\"As of the latest available data, China's GDP is approximately **$19.23 trillion** in nominal terms, according to projections for 2025. This figure is based on current estimates and forecasts from reliable sources like the World Bank and economic indicators. For the most accurate and up-to-date information, refer to official sources or recent economic reports.\", additional_kwargs={}, response_metadata={'token_usage': {'completion_tokens': 315, 'prompt_tokens': 1865, 'total_tokens': 2180, 'completion_time': 1.382293046, 'prompt_time': 0.13742977, 'queue_time': 0.20714660000000001, 'total_time': 1.519722816}, 'model_name': 'deepseek-r1-distill-llama-70b', 'system_fingerprint': 'fp_1bbe7845ec', 'finish_reason': 'stop', 'logprobs': None}, id='run--f19c9df0-ed6d-4194-8299-56f526f86aa2-0', usage_metadata={'input_tokens': 1865, 'output_tokens': 315, 'total_tokens': 2180})]}\n"
     ]
    }
   ],
   "source": [
    "snapshot=app2.get_state(config)\n",
    "last_message=snapshot.values[\"messages\"][-1]\n",
    "tool_details=last_message.tool_calls\n",
    "if tool_details[0][\"name\"]== \"search\":\n",
    "    user_input=input(prompt=f\"[yes/no] do you want to continue with {tool_details[0]['name']}?\").lower()\n",
    "    if user_input==\"no\":\n",
    "        print(\"web tool discarded\")\n",
    "        raise Exception(\"Web tool discarded by the user.\")\n",
    "    else:\n",
    "        response=app2.invoke(None,config)\n",
    "        print(response)\n",
    "else:\n",
    "    response=app2.invoke(None,config)\n",
    "    print(response)"
   ]
  }
 ],
 "metadata": {
  "kernelspec": {
   "display_name": "env",
   "language": "python",
   "name": "python3"
  },
  "language_info": {
   "codemirror_mode": {
    "name": "ipython",
    "version": 3
   },
   "file_extension": ".py",
   "mimetype": "text/x-python",
   "name": "python",
   "nbconvert_exporter": "python",
   "pygments_lexer": "ipython3",
   "version": "3.13.3"
  }
 },
 "nbformat": 4,
 "nbformat_minor": 2
}
