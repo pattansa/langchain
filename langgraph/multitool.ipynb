{
 "cells": [
  {
   "cell_type": "code",
   "execution_count": 17,
   "metadata": {},
   "outputs": [
    {
     "name": "stdout",
     "output_type": "stream",
     "text": [
      "Requirement already satisfied: duckduckgo_search in /Users/sanat/ml/langchain/env/lib/python3.13/site-packages (8.0.2)\n",
      "Requirement already satisfied: click>=8.1.8 in /Users/sanat/ml/langchain/env/lib/python3.13/site-packages (from duckduckgo_search) (8.1.8)\n",
      "Requirement already satisfied: primp>=0.15.0 in /Users/sanat/ml/langchain/env/lib/python3.13/site-packages (from duckduckgo_search) (0.15.0)\n",
      "Requirement already satisfied: lxml>=5.3.0 in /Users/sanat/ml/langchain/env/lib/python3.13/site-packages (from duckduckgo_search) (5.4.0)\n",
      "\n",
      "\u001b[1m[\u001b[0m\u001b[34;49mnotice\u001b[0m\u001b[1;39;49m]\u001b[0m\u001b[39;49m A new release of pip is available: \u001b[0m\u001b[31;49m25.0.1\u001b[0m\u001b[39;49m -> \u001b[0m\u001b[32;49m25.1.1\u001b[0m\n",
      "\u001b[1m[\u001b[0m\u001b[34;49mnotice\u001b[0m\u001b[1;39;49m]\u001b[0m\u001b[39;49m To update, run: \u001b[0m\u001b[32;49mpip install --upgrade pip\u001b[0m\n",
      "Note: you may need to restart the kernel to use updated packages.\n"
     ]
    }
   ],
   "source": [
    "pip install duckduckgo_search"
   ]
  },
  {
   "cell_type": "code",
   "execution_count": 18,
   "metadata": {},
   "outputs": [],
   "source": [
    "from langchain.tools import tool\n",
    "from langchain_groq import ChatGroq\n",
    "from langchain_community.tools import DuckDuckGoSearchRun\n",
    "from langchain_core.messages import HumanMessage, SystemMessage\n",
    "from langgraph.graph import MessagesState,StateGraph, END, START\n",
    "from langgraph.prebuilt import ToolNode\n",
    "from langgraph.prebuilt import tools_condition\n",
    "from IPython.display import Image, display"
   ]
  },
  {
   "cell_type": "code",
   "execution_count": 19,
   "metadata": {},
   "outputs": [],
   "source": [
    "\n",
    "llm = ChatGroq(\n",
    "    model_name=\"deepseek-r1-distill-llama-70b\",\n",
    "    temperature=0\n",
    ")\n",
    "search=DuckDuckGoSearchRun()"
   ]
  },
  {
   "cell_type": "code",
   "execution_count": 20,
   "metadata": {},
   "outputs": [],
   "source": [
    "@tool\n",
    "def multiply(a: int, b: int) -> int:\n",
    "    \"\"\"\n",
    "    Multiply two integers.\n",
    "\n",
    "    Args:\n",
    "        a (int): The first integer.\n",
    "        b (int): The second integer.\n",
    "\n",
    "    Returns:\n",
    "        int: The product of a and b.\n",
    "    \"\"\"\n",
    "    return a * b\n",
    "\n",
    "@tool\n",
    "def add(a: int, b: int) -> int:\n",
    "    \"\"\"\n",
    "    Add two integers.\n",
    "\n",
    "    Args:\n",
    "        a (int): The first integer.\n",
    "        b (int): The second integer.\n",
    "\n",
    "    Returns:\n",
    "        int: The sum of a and b.\n",
    "    \"\"\"\n",
    "    return a + b\n",
    "\n",
    "@tool\n",
    "def divide(a: int, b: int) -> float:\n",
    "    \"\"\"\n",
    "    Divide two integers.\n",
    "\n",
    "    Args:\n",
    "        a (int): The numerator.\n",
    "        b (int): The denominator (must not be 0).\n",
    "\n",
    "    Returns:\n",
    "        float: The result of division.\n",
    "    \"\"\"\n",
    "    if b == 0:\n",
    "        raise ValueError(\"Denominator cannot be zero.\")\n",
    "    return a / b"
   ]
  },
  {
   "cell_type": "code",
   "execution_count": 21,
   "metadata": {},
   "outputs": [],
   "source": [
    "tools=[multiply, add, divide, search]\n",
    "llm_with_tools=llm.bind_tools(tools)"
   ]
  },
  {
   "cell_type": "code",
   "execution_count": 22,
   "metadata": {},
   "outputs": [],
   "source": [
    "SYSTEM_PROMPT=\"You are a helpful assistant tasked with using search and performing arithmetic on a set of inputs.\"\n",
    "def function_1(state:MessagesState):\n",
    "    \n",
    "    user_question=state[\"messages\"]\n",
    "    \n",
    "    input_question = [SYSTEM_PROMPT]+user_question\n",
    "    \n",
    "    response = llm_with_tools.invoke(input_question)\n",
    "    \n",
    "    return {\n",
    "        \"messages\":[response]\n",
    "    }"
   ]
  },
  {
   "cell_type": "code",
   "execution_count": 23,
   "metadata": {},
   "outputs": [
    {
     "data": {
      "image/png": "[encoded data removed]",
      "text/plain": [
       "<IPython.core.display.Image object>"
      ]
     },
     "metadata": {},
     "output_type": "display_data"
    }
   ],
   "source": [
    "builder=StateGraph(MessagesState)\n",
    "builder.add_node(\"llm_decision_step\",function_1)\n",
    "builder.add_node(\"tools\",ToolNode(tools))\n",
    "builder.add_edge(START,\"llm_decision_step\")\n",
    "builder.add_conditional_edges(\n",
    "    \"llm_decision_step\",\n",
    "    tools_condition,\n",
    ")\n",
    "builder.add_edge(\"tools\",\"llm_decision_step\")\n",
    "react_graph=builder.compile()\n",
    "display(Image(react_graph.get_graph().draw_mermaid_png()))"
   ]
  },
  {
   "cell_type": "code",
   "execution_count": 25,
   "metadata": {},
   "outputs": [
    {
     "data": {
      "text/plain": [
       "{'messages': [HumanMessage(content=\"What is 2 times of narendramodi's age?\", additional_kwargs={}, response_metadata={}, id='18d557e8-ed4d-4560-94e9-19b6070118dd'),\n",
       "  AIMessage(content='', additional_kwargs={'tool_calls': [{'id': 'dh97jmeja', 'function': {'arguments': '{\"query\":\"Narendra Modi age\"}', 'name': 'duckduckgo_search'}, 'type': 'function'}]}, response_metadata={'token_usage': {'completion_tokens': 329, 'prompt_tokens': 423, 'total_tokens': 752, 'completion_time': 1.196363636, 'prompt_time': 0.027150323, 'queue_time': 0.201933765, 'total_time': 1.223513959}, 'model_name': 'deepseek-r1-distill-llama-70b', 'system_fingerprint': 'fp_1bbe7845ec', 'finish_reason': 'tool_calls', 'logprobs': None}, id='run--1bbf4d3b-c9b7-45a7-89a8-4f37f770bfff-0', tool_calls=[{'name': 'duckduckgo_search', 'args': {'query': 'Narendra Modi age'}, 'id': 'dh97jmeja', 'type': 'tool_call'}], usage_metadata={'input_tokens': 423, 'output_tokens': 329, 'total_tokens': 752}),\n",
       "  ToolMessage(content=\"Narendra Modi (born September 17, 1950, Vadnagar, India) is an Indian politician and government official who rose to become a senior leader of the Bharatiya Janata Party (BJP). In 2014 he led his party to victory in elections to the Lok Sabha (lower chamber of the Indian parliament), after which he was sworn in as prime minister of India.Prior to that he had served (2001-14) as chief ... Narendra Modi biography. Here are 20 key details about Narendra Modi: Full Name: Narendra Damodardas Modi.; Date of Birth: September 17, 1950.; Birthplace: Vadnagar, Gujarat, India. Current Position: Prime Minister of India, serving since May 26, 2014. Political Party: Bharatiya Janata Party (BJP). Previous Role: Chief Minister of Gujarat from October 2001 to May 2014. Narendra Modi Biography. Prime Minister Narendra Modi:Narendra Modi, born on September 17, 1950, in Vadnagar, Gujarat, India, is an Indian politician who has served as the Prime Minister of India since May 2014. He belongs to the Bharatiya Janata Party (BJP), a right-wing political party in India. Modi's rise to political prominence is marked ... Learn about the life and achievements of Narendra Modi, the 14th Prime Minister of India, who was born on September 17, 1950, in Gujarat. Find out his full name, mother, father, wife, education, party, and net worth here. Narendra Modi was born on September 17, 1950, in Vadnagar, a town in the state of Gujarat, India. He was the third of six children born to Damodardas Mulchand Modi, a street vendor, and Heeraben Modi, his nurturing mother. From an early age, Modi showed a keen sense of discipline and determination.\", name='duckduckgo_search', id='77a83b00-ef86-4d32-a25a-54961542372c', tool_call_id='dh97jmeja'),\n",
       "  AIMessage(content='', additional_kwargs={'tool_calls': [{'id': '8nnqb4rtk', 'function': {'arguments': '{\"a\":73,\"b\":2}', 'name': 'multiply'}, 'type': 'function'}]}, response_metadata={'token_usage': {'completion_tokens': 247, 'prompt_tokens': 878, 'total_tokens': 1125, 'completion_time': 0.898181818, 'prompt_time': 0.064967863, 'queue_time': 0.20149882999999996, 'total_time': 0.963149681}, 'model_name': 'deepseek-r1-distill-llama-70b', 'system_fingerprint': 'fp_1bbe7845ec', 'finish_reason': 'tool_calls', 'logprobs': None}, id='run--fbbfad34-c79b-4eaa-86e8-9520405dc1fa-0', tool_calls=[{'name': 'multiply', 'args': {'a': 73, 'b': 2}, 'id': '8nnqb4rtk', 'type': 'tool_call'}], usage_metadata={'input_tokens': 878, 'output_tokens': 247, 'total_tokens': 1125}),\n",
       "  ToolMessage(content='146', name='multiply', id='0204c823-a256-4e9d-8d2d-cc1cb9f57228', tool_call_id='8nnqb4rtk'),\n",
       "  AIMessage(content=\"\\n\\nNarendra Modi was born on September 17, 1950, which makes him 73 years old as of 2023. Therefore, 2 times Narendra Modi's age is 146.\", additional_kwargs={}, response_metadata={'token_usage': {'completion_tokens': 42, 'prompt_tokens': 931, 'total_tokens': 973, 'completion_time': 0.152727273, 'prompt_time': 0.06794889, 'queue_time': 0.20841798100000003, 'total_time': 0.220676163}, 'model_name': 'deepseek-r1-distill-llama-70b', 'system_fingerprint': 'fp_1bbe7845ec', 'finish_reason': 'stop', 'logprobs': None}, id='run--a07a2f0f-f1c8-41ef-af7b-d50189226353-0', usage_metadata={'input_tokens': 931, 'output_tokens': 42, 'total_tokens': 973})]}"
      ]
     },
     "execution_count": 25,
     "metadata": {},
     "output_type": "execute_result"
    }
   ],
   "source": [
    "message=[HumanMessage(content=\"What is 2 times of narendramodi's age?\")]\n",
    "react_graph.invoke({\"messages\":message})"
   ]
  },
  {
   "cell_type": "code",
   "execution_count": 26,
   "metadata": {},
   "outputs": [
    {
     "data": {
      "text/plain": [
       "{'messages': [HumanMessage(content='How much is the net worth of Elon Musk, and divide it by 2?', additional_kwargs={}, response_metadata={}, id='c479ef08-7726-4fcc-ba61-93a8afb4c548'),\n",
       "  AIMessage(content='', additional_kwargs={'tool_calls': [{'id': 'z7r6n8q1f', 'function': {'arguments': '{\"query\":\"Elon Musk net worth 2023\"}', 'name': 'duckduckgo_search'}, 'type': 'function'}]}, response_metadata={'token_usage': {'completion_tokens': 376, 'prompt_tokens': 427, 'total_tokens': 803, 'completion_time': 1.439564763, 'prompt_time': 0.034836682, 'queue_time': 0.201520868, 'total_time': 1.474401445}, 'model_name': 'deepseek-r1-distill-llama-70b', 'system_fingerprint': 'fp_1bbe7845ec', 'finish_reason': 'tool_calls', 'logprobs': None}, id='run--f7916cf2-2c6c-4565-81e4-f17fee3a4d6f-0', tool_calls=[{'name': 'duckduckgo_search', 'args': {'query': 'Elon Musk net worth 2023'}, 'id': 'z7r6n8q1f', 'type': 'tool_call'}], usage_metadata={'input_tokens': 427, 'output_tokens': 376, 'total_tokens': 803}),\n",
       "  ToolMessage(content=\"The wealthiest among them is Elon Musk, CEO of Tesla and SpaceX. ... Net Worth: $379 billion; Tesla Ownership Stake: 13% ($142 billion) ... Musk founded xAI in 2023. It is an artificial ... Musk owns an estimated 54% of xAI, which he founded in 2023. Private investors valued the company at a reported $50 billion in November 2024. ... Elon Musk's net worth fell by the equivalent of ... View net worth over: Max 1 year 1 quarter ... He renamed the company X Corp. in April 2023. Musk was the largest financial backer of Donald Trump's presidential campaign during the 2024 election ... Elon Musk's net worth dropped by $34 billion in the midst of his major feud with President Donald Trump, bringing his personal fortune down to $334.5 billion, according to Bloomberg. As of 2023, Elon Musk's net worth was a staggering $163,5 billion. Musk owes a huge chunk of his wealth to his 20% stake in Tesla, as well as his majority stake in SpaceX. Elon Musk started building his business empire in the 90s after founding his first company, an online city guide known as Zip2 Corporation. Zip2 Corporation was purchased ...\", name='duckduckgo_search', id='5e033b0e-1bdf-4fcd-92e0-0ae1b3f2e67b', tool_call_id='z7r6n8q1f'),\n",
       "  AIMessage(content='', additional_kwargs={'tool_calls': [{'id': 'km71yhbfm', 'function': {'arguments': '{\"a\":379000000000,\"b\":2}', 'name': 'divide'}, 'type': 'function'}]}, response_metadata={'token_usage': {'completion_tokens': 299, 'prompt_tokens': 748, 'total_tokens': 1047, 'completion_time': 1.378762411, 'prompt_time': 0.055388388, 'queue_time': 0.201353393, 'total_time': 1.434150799}, 'model_name': 'deepseek-r1-distill-llama-70b', 'system_fingerprint': 'fp_1bbe7845ec', 'finish_reason': 'tool_calls', 'logprobs': None}, id='run--90e885a6-d119-4fea-94e6-c7814a131ad4-0', tool_calls=[{'name': 'divide', 'args': {'a': 379000000000, 'b': 2}, 'id': 'km71yhbfm', 'type': 'tool_call'}], usage_metadata={'input_tokens': 748, 'output_tokens': 299, 'total_tokens': 1047}),\n",
       "  ToolMessage(content='189500000000.0', name='divide', id='ad9086b1-c64d-4c32-855a-4ebfc1709484', tool_call_id='km71yhbfm'),\n",
       "  AIMessage(content=\"As of the latest available data, Elon Musk's net worth is approximately **$379 billion**. Dividing this by 2 gives:\\n\\n\\\\[\\n\\\\boxed{189500000000}\\n\\\\]\", additional_kwargs={}, response_metadata={'token_usage': {'completion_tokens': 222, 'prompt_tokens': 808, 'total_tokens': 1030, 'completion_time': 0.922127545, 'prompt_time': 0.06008254, 'queue_time': 0.20164886499999998, 'total_time': 0.982210085}, 'model_name': 'deepseek-r1-distill-llama-70b', 'system_fingerprint': 'fp_1bbe7845ec', 'finish_reason': 'stop', 'logprobs': None}, id='run--6c5eadf5-afeb-479a-8776-4525a372c199-0', usage_metadata={'input_tokens': 808, 'output_tokens': 222, 'total_tokens': 1030})]}"
      ]
     },
     "execution_count": 26,
     "metadata": {},
     "output_type": "execute_result"
    }
   ],
   "source": [
    "message = [HumanMessage(content=\"How much is the net worth of Elon Musk, and divide it by 2?\")]\n",
    "response=react_graph.invoke({\"messages\":message})\n",
    "response"
   ]
  },
  {
   "cell_type": "code",
   "execution_count": 14,
   "metadata": {},
   "outputs": [
    {
     "ename": "TypeError",
     "evalue": "'AIMessage' object is not subscriptable",
     "output_type": "error",
     "traceback": [
      "\u001b[31m---------------------------------------------------------------------------\u001b[39m",
      "\u001b[31mTypeError\u001b[39m                                 Traceback (most recent call last)",
      "\u001b[36mCell\u001b[39m\u001b[36m \u001b[39m\u001b[32mIn[14]\u001b[39m\u001b[32m, line 1\u001b[39m\n\u001b[32m----> \u001b[39m\u001b[32m1\u001b[39m \u001b[38;5;28;01mfor\u001b[39;00m m \u001b[38;5;129;01min\u001b[39;00m \u001b[43mresponse\u001b[49m\u001b[43m[\u001b[49m\u001b[33;43m\"\u001b[39;49m\u001b[33;43mmessages\u001b[39;49m\u001b[33;43m\"\u001b[39;49m\u001b[43m]\u001b[49m:\n\u001b[32m      2\u001b[39m     m.pretty_print()\n",
      "\u001b[31mTypeError\u001b[39m: 'AIMessage' object is not subscriptable"
     ]
    }
   ],
   "source": []
  }
 ],
 "metadata": {
  "kernelspec": {
   "display_name": "env",
   "language": "python",
   "name": "python3"
  },
  "language_info": {
   "codemirror_mode": {
    "name": "ipython",
    "version": 3
   },
   "file_extension": ".py",
   "mimetype": "text/x-python",
   "name": "python",
   "nbconvert_exporter": "python",
   "pygments_lexer": "ipython3",
   "version": "3.13.3"
  }
 },
 "nbformat": 4,
 "nbformat_minor": 2
}
